{
 "cells": [
  {
   "cell_type": "code",
   "execution_count": 5,
   "metadata": {},
   "outputs": [],
   "source": [
    "from keras.applications.vgg16 import VGG16, preprocess_input as preprocess_vgg16\n",
    "from keras.layers import Input, Flatten, Dense, Dropout\n",
    "from keras.models import Model,  load_model\n",
    "from keras.optimizers import SGD\n",
    "\n",
    "import numpy as np\n",
    "\n",
    "%matplotlib inline"
   ]
  },
  {
   "cell_type": "markdown",
   "metadata": {},
   "source": [
    "## Set up Architecture"
   ]
  },
  {
   "cell_type": "code",
   "execution_count": 56,
   "metadata": {},
   "outputs": [
    {
     "name": "stdout",
     "output_type": "stream",
     "text": [
      "_________________________________________________________________\n",
      "Layer (type)                 Output Shape              Param #   \n",
      "=================================================================\n",
      "image_input (InputLayer)     (None, 224, 224, 3)       0         \n",
      "_________________________________________________________________\n",
      "vgg16 (Model)                multiple                  14714688  \n",
      "_________________________________________________________________\n",
      "flatten (Flatten)            (None, 25088)             0         \n",
      "_________________________________________________________________\n",
      "fc1 (Dense)                  (None, 512)               12845568  \n",
      "_________________________________________________________________\n",
      "dropout_5 (Dropout)          (None, 512)               0         \n",
      "_________________________________________________________________\n",
      "fc2 (Dense)                  (None, 512)               262656    \n",
      "_________________________________________________________________\n",
      "dropout_6 (Dropout)          (None, 512)               0         \n",
      "_________________________________________________________________\n",
      "predictions (Dense)          (None, 3)                 1539      \n",
      "=================================================================\n",
      "Total params: 27,824,451\n",
      "Trainable params: 13,109,763\n",
      "Non-trainable params: 14,714,688\n",
      "_________________________________________________________________\n"
     ]
    }
   ],
   "source": [
    "from keras import regularizers\n",
    "\n",
    "#set up the architecture with VGG\n",
    "#Import the weights for VGG16\n",
    "model_vgg_conv = VGG16(weights='imagenet', include_top=False)\n",
    "\n",
    "#input format\n",
    "inp = Input(shape=(224,224,3),name = 'image_input')\n",
    "\n",
    "# set the convolutional layers to non-trainable\n",
    "for layer in model_vgg_conv.layers:\n",
    "    layer.trainable=False\n",
    "\n",
    "output_vgg_conv = model_vgg_conv(inp)\n",
    "    \n",
    "#Add Dense layers \n",
    "x = Flatten(name='flatten')(output_vgg_conv)\n",
    "## Original structure\n",
    "#x = Dense(4096, activation='relu', name='fc1')(x)\n",
    "#x = Dense(4096, activation='relu', name='fc2')(x)\n",
    "\n",
    "## New weights for a simpler problem\n",
    "x = Dense(512, activation='relu', name='fc1', kernel_regularizer=regularizers.l2(0.1))(x)\n",
    "x = Dropout(0.4)(x)\n",
    "x = Dense(512, activation='relu', name='fc2', kernel_regularizer=regularizers.l2(0.1))(x)\n",
    "x = Dropout(0.4)(x)\n",
    "x = Dense(3, activation='softmax', name='predictions')(x) #output layer\n",
    "\n",
    "#compile into one model\n",
    "model = Model(inputs=inp, outputs=x)\n",
    "model.summary()\n",
    "model.compile(optimizer=SGD(lr=1e-4, momentum=0.9),\n",
    "              loss='categorical_crossentropy',\n",
    "              metrics=['accuracy'])"
   ]
  },
  {
   "cell_type": "code",
   "execution_count": null,
   "metadata": {},
   "outputs": [],
   "source": [
    "from keras.preprocessing.image import ImageDataGenerator, array_to_img, img_to_array, load_img\n",
    "\n",
    "batch_size=16\n",
    "\n",
    "#build generators for train/test/validation images\n",
    "train_datagen = ImageDataGenerator(\n",
    "        rescale=1./255,\n",
    "        shear_range=0.2,\n",
    "        rotation_range=30,\n",
    "        zoom_range=0.2,\n",
    "        horizontal_flip=True)\n",
    "\n",
    "# augmentation configuration we will use for testing\n",
    "test_datagen = ImageDataGenerator(\n",
    "    rescale=1./255, \n",
    "    zoom_range=0.2,\n",
    "    rotation_range=15,\n",
    "    horizontal_flip=True)\n",
    "\n",
    "# generator that reads pictures from train directory\n",
    "train_generator = train_datagen.flow_from_directory(\n",
    "        'data/train',\n",
    "        target_size=(224, 224),\n",
    "        batch_size=batch_size,\n",
    "        class_mode='categorical',\n",
    "        shuffle = True)\n",
    "\n",
    "validation_generator = test_datagen.flow_from_directory(\n",
    "        'data/validation',\n",
    "        target_size=(224, 224),\n",
    "        batch_size=1,\n",
    "        class_mode='categorical',\n",
    "        shuffle=True)\n",
    "\n",
    "test_generator = test_datagen.flow_from_directory(\n",
    "        'data/test',\n",
    "        target_size=(224, 224),\n",
    "        batch_size=1,\n",
    "        class_mode='categorical',\n",
    "        shuffle=True)"
   ]
  },
  {
   "cell_type": "code",
   "execution_count": null,
   "metadata": {
    "scrolled": false
   },
   "outputs": [],
   "source": [
    "# Train the moodel\n",
    "\n",
    "model.fit_generator(\n",
    "        train_generator,\n",
    "        steps_per_epoch=1800 // batch_size,\n",
    "        epochs=10,\n",
    "        validation_data=validation_generator,\n",
    "        validation_steps=450 // batch_size)\n",
    "\n",
    "model.save('model.h5')"
   ]
  },
  {
   "cell_type": "markdown",
   "metadata": {},
   "source": [
    "## Evaluate model performance"
   ]
  },
  {
   "cell_type": "code",
   "execution_count": null,
   "metadata": {},
   "outputs": [],
   "source": [
    "#Evaluate accuracy and loss function on train, validation and test\n",
    "\n",
    "train_results = model.evaluate_generator(train_generator, steps=400)\n",
    "val_results = model.evaluate_generator(validation_generator, steps=400)\n",
    "test_results = model.evaluate_generator(test_generator, steps=400)\n",
    "\n",
    "print('train:',list(zip(model.metrics_names, train_results)))\n",
    "print('validation:',list(zip(model.metrics_names, val_results)))\n",
    "print('test:',list(zip(model.metrics_names, test_results)))"
   ]
  },
  {
   "cell_type": "markdown",
   "metadata": {},
   "source": [
    "### Building a Confusion Matrix"
   ]
  },
  {
   "cell_type": "code",
   "execution_count": 74,
   "metadata": {},
   "outputs": [],
   "source": [
    "n = 600\n",
    "\n",
    "x = []\n",
    "y_true = []\n",
    "labels =  list(test_generator.class_indices.keys())\n",
    "\n",
    "for i in range(n):\n",
    "    x1, y1 = next(test_generator)\n",
    "    x.append(x1)\n",
    "    y_true.append(y1.tolist()[0].index(1.)+1)\n",
    "\n",
    "y_pred = []\n",
    "\n",
    "for i in x:\n",
    "    y_pred.append(model.predict(i).argmax()+1)"
   ]
  },
  {
   "cell_type": "code",
   "execution_count": 75,
   "metadata": {
    "scrolled": false
   },
   "outputs": [
    {
     "name": "stdout",
     "output_type": "stream",
     "text": [
      "Normalized confusion matrix\n",
      "[[ 0.85436893  0.05789474  0.06862745]\n",
      " [ 0.0776699   0.77368421  0.14215686]\n",
      " [ 0.06796117  0.16842105  0.78921569]]\n"
     ]
    },
    {
     "data": {
      "image/png": "[encoded data removed]",
      "text/plain": [
       "<matplotlib.figure.Figure at 0x7ff4415e76a0>"
      ]
     },
     "metadata": {},
     "output_type": "display_data"
    }
   ],
   "source": [
    "# http://scikit-learn.org/stable/auto_examples/model_selection/plot_confusion_matrix.html\n",
    "\n",
    "import matplotlib.pyplot as plt\n",
    "from sklearn.metrics import confusion_matrix\n",
    "import itertools\n",
    "\n",
    "def plot_confusion_matrix(cm, classes,\n",
    "                          normalize=True,\n",
    "                          norm_axis='Precision',\n",
    "                          title='Confusion matrix',\n",
    "                          cmap=plt.cm.Blues):\n",
    "    \"\"\"\n",
    "    This function prints and plots the confusion matrix.\n",
    "    Normalization can be applied by setting `normalize=True`.\n",
    "    \"\"\"\n",
    "    if normalize:\n",
    "        if norm_axis == 'Precision':\n",
    "            cm = cm.astype('float') / cm.sum(axis=0)[np.newaxis,:]\n",
    "        elif norm_axis =='Recall':\n",
    "            cm = cm.astype('float') / cm.sum(axis=1)[:,np.newaxis]\n",
    "        print(\"Normalized confusion matrix\")\n",
    "    else:\n",
    "        print('Confusion matrix, without normalization')\n",
    "\n",
    "    print(cm)\n",
    "\n",
    "    plt.imshow(cm, interpolation='nearest', cmap=cmap)\n",
    "    plt.title(title)\n",
    "    plt.colorbar()\n",
    "    tick_marks = np.arange(len(classes))\n",
    "    plt.xticks(tick_marks, classes, rotation=45)\n",
    "    plt.yticks(tick_marks, classes)\n",
    "\n",
    "    fmt = '.2f' if normalize else 'd'\n",
    "    thresh = cm.max() / 2.\n",
    "    for i, j in itertools.product(range(cm.shape[0]), range(cm.shape[1])):\n",
    "        plt.text(j, i, format(cm[i, j], fmt),\n",
    "                 horizontalalignment=\"center\",\n",
    "                 color=\"white\" if cm[i, j] > thresh else \"black\")\n",
    "\n",
    "    plt.tight_layout()\n",
    "    plt.ylabel('True label')\n",
    "    plt.xlabel('Predicted label')\n",
    "    \n",
    "\n",
    "plot_confusion_matrix(confusion_matrix(y_true, y_pred), labels)\n"
   ]
  }
 ],
 "metadata": {
  "kernelspec": {
   "display_name": "Environment (conda_tensorflow_p36)",
   "language": "python",
   "name": "conda_tensorflow_p36"
  },
  "language_info": {
   "codemirror_mode": {
    "name": "ipython",
    "version": 3
   },
   "file_extension": ".py",
   "mimetype": "text/x-python",
   "name": "python",
   "nbconvert_exporter": "python",
   "pygments_lexer": "ipython3",
   "version": "3.6.3"
  }
 },
 "nbformat": 4,
 "nbformat_minor": 2
}
